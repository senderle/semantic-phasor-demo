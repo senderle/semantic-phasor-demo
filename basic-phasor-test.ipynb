{
 "cells": [
  {
   "cell_type": "code",
   "execution_count": null,
   "metadata": {},
   "outputs": [],
   "source": [
    "import itertools\n",
    "import os\n",
    "\n",
    "import spacy\n",
    "import numpy\n",
    "import umap\n",
    "from scipy.spatial import KDTree\n",
    "\n",
    "import matplotlib.pyplot as plt\n",
    "%matplotlib inline\n"
   ]
  },
  {
   "cell_type": "code",
   "execution_count": null,
   "metadata": {},
   "outputs": [],
   "source": [
    "en_nlp = spacy.load('en_core_web_md', disable=['tagger', 'parser', 'ner'])"
   ]
  },
  {
   "cell_type": "code",
   "execution_count": null,
   "metadata": {},
   "outputs": [],
   "source": [
    "def load_page_iter(folder):\n",
    "    files = (os.path.join(folder, f) for f in os.listdir(folder) if f.endswith('.txt'))\n",
    "    for f in files:\n",
    "        with open(f, encoding='UTF-8') as ip:\n",
    "            yield ip.read()\n",
    "\n",
    "def load_one_embedding(folder):\n",
    "    sp_text = en_nlp.pipe(load_page_iter(folder))\n",
    "    return numpy.array([tok.vector.reshape(-1) for doc in sp_text for tok in doc])\n",
    "\n",
    "def group_avg(vec, n_groups):\n",
    "    size = len(vec) / n_groups\n",
    "    ends = []\n",
    "    for i in range(1, n_groups + 1):\n",
    "        ends.append(int(size * i))\n",
    "    ends[-1] = len(vec)\n",
    "    \n",
    "    sums = []\n",
    "    start = 0\n",
    "    for end in ends:\n",
    "        sums.append(vec[start:end].sum() / (end - start))\n",
    "        start = end\n",
    "        \n",
    "    return numpy.array(sums)\n",
    "        \n",
    "def fft_vec(vecs, n_bands=10, unpack=True):\n",
    "    fft_cols = []\n",
    "    n_groups = 1\n",
    "    while n_groups < n_bands * 4:\n",
    "        n_groups *= 2\n",
    "        \n",
    "    for col in range(vecs.shape[1]):\n",
    "        vec = vecs[:, col]\n",
    "        vec = group_avg(vec, n_groups)\n",
    "        fft = numpy.fft.rfft(vec)\n",
    "        fft_cols.append(fft[:n_bands])\n",
    "    \n",
    "    if unpack:\n",
    "        complex_vec = numpy.array(fft_cols).reshape(-1)\n",
    "        return numpy.array([x for r_i in zip(complex_vec.real, complex_vec.imag)\n",
    "                            for x in r_i])\n",
    "    else:\n",
    "        return numpy.array(fft_cols)\n",
    "\n",
    "def test_fft_reshape(folder):\n",
    "    files = [os.path.join(folder, f) for f in os.listdir(folder)]\n",
    "    files = [f for f in files if os.path.isdir(f)][:10]\n",
    "    for f in files:\n",
    "        assert _test_fft_reshape_one(f)\n",
    "\n",
    "def _test_fft_reshape_one(folder):\n",
    "    vecs = load_one_embedding(folder)\n",
    "    \n",
    "    fft_orig = fft_vec(vecs, unpack=False)\n",
    "    \n",
    "    fft_complex = fft_array_to_complex(fft_vec_to_array(fft_vec(vecs)))\n",
    "    return (fft_orig == fft_complex).all()\n",
    "\n",
    "def fft_vec_to_array(vec):\n",
    "    return vec.reshape(300, 20)\n",
    "\n",
    "def fft_array_to_complex(array):\n",
    "    real = array[:, ::2]\n",
    "    imag = array[:, 1::2]\n",
    "    return real + imag * 1j\n",
    "\n",
    "def load_embeddings_iter(files):\n",
    "    return (load_one_embedding(f) for f in files)\n",
    "\n",
    "def load_fft_vecs_iter(embeddings):\n",
    "    return (fft_vec(e) for e in embeddings)\n",
    "\n",
    "def save_embeddings(folder):\n",
    "    files = [os.path.join(folder, f) for f in os.listdir(folder)]\n",
    "    for emb, f in zip(load_embeddings_iter(files), files):\n",
    "        f += '.npy'\n",
    "        numpy.save(f, emb)\n",
    "\n",
    "def save_fft_vecs(folder):\n",
    "    files = [os.path.join(folder, f) for f in os.listdir(folder)]\n",
    "    files = [f for f in files if os.path.isdir(f)]\n",
    "    for emb, f in zip(load_vecs_iter(load_embeddings_iter(files)), files):\n",
    "        f += '.npy'\n",
    "        numpy.save(f, emb)\n",
    "        \n",
    "def save_fft_vecs_dest(folder, destfolder=None):\n",
    "    destfolder = folder if destfolder is None else destfolder\n",
    "    files = [os.path.join(folder, f) for f in os.listdir(folder)]\n",
    "    files = [f for f in files if os.path.isdir(f)]\n",
    "    newfiles = [os.path.join(destfolder, os.path.split(f)[-1])\n",
    "                for f in files]\n",
    "    for emb, f in zip(load_vecs_iter(load_embeddings_iter(files)), newfiles):\n",
    "        f += '.npy'\n",
    "        numpy.save(f, emb)\n",
    "\n",
    "def load_fft_vec_array(folder):\n",
    "    files = [os.path.join(folder, f) for f in os.listdir(folder) if f.endswith('.npy')]\n",
    "    return numpy.array([numpy.load(f) for f in files])\n",
    "\n",
    "def load_fft_vecs(folder):\n",
    "    files = [os.path.join(folder, f) for f in os.listdir(folder) if f.endswith('.npy')]\n",
    "    return {os.path.split(f)[-1][:-4]: numpy.load(f) for f in files}\n",
    "        \n",
    "def load_dataset(folder, n=None):\n",
    "    files = [os.path.join(folder, f) for f in os.listdir(folder)]\n",
    "    files.sort()\n",
    "    files = files[:n]\n",
    "    return numpy.array(list(load_vecs_iter(load_embeddings_iter(files))))\n",
    "\n",
    "def show_dataset(folder, n=None):\n",
    "    files = [os.path.join(folder, f) for f in os.listdir(folder) if f.endswith('.txt')]\n",
    "    files.sort()\n",
    "    files = files[:n]\n",
    "    for f in files:\n",
    "        with open(f) as ip:\n",
    "            print(ip.read()[0:500])\n",
    "\n",
    "def show_umap(data):\n",
    "    print(data.shape)\n",
    "    um = umap.UMAP(n_neighbors=20, min_dist=0.001, metric='cosine')\n",
    "    vis = um.fit_transform(data)\n",
    "    plt.gca().axis('equal')\n",
    "    plt.scatter(vis[:, 0], \n",
    "                vis[:, 1], \n",
    "                c=[i / len(vis) for i in range(len(vis))],\n",
    "                cmap='plasma')\n",
    "    plt.show()"
   ]
  },
  {
   "cell_type": "code",
   "execution_count": null,
   "metadata": {},
   "outputs": [],
   "source": [
    "folder = '/media/secure_volume/workset/orig'"
   ]
  },
  {
   "cell_type": "code",
   "execution_count": null,
   "metadata": {},
   "outputs": [],
   "source": [
    "test_fft_reshape(folder)"
   ]
  },
  {
   "cell_type": "code",
   "execution_count": null,
   "metadata": {},
   "outputs": [],
   "source": [
    "# save_fft_vecs(folder)"
   ]
  },
  {
   "cell_type": "code",
   "execution_count": null,
   "metadata": {},
   "outputs": [],
   "source": [
    "show_umap(load_fft_vec_array(folder))"
   ]
  },
  {
   "cell_type": "code",
   "execution_count": null,
   "metadata": {},
   "outputs": [],
   "source": [
    "data_dict = load_fft_vecs(folder)\n",
    "data = list(data_dict.items())\n",
    "files, data = zip(*data)\n",
    "data_umap = umap.UMAP(n_neighbors=5, n_components=10, metric='cosine').fit_transform(data)"
   ]
  },
  {
   "cell_type": "code",
   "execution_count": null,
   "metadata": {},
   "outputs": [],
   "source": [
    "data_umap.shape"
   ]
  },
  {
   "cell_type": "code",
   "execution_count": null,
   "metadata": {},
   "outputs": [],
   "source": [
    "data_umap_kd = KDTree(data_umap)"
   ]
  },
  {
   "cell_type": "code",
   "execution_count": null,
   "metadata": {},
   "outputs": [],
   "source": [
    "pairs = data_umap_kd.query_pairs(0.02)\n",
    "pairs"
   ]
  },
  {
   "cell_type": "code",
   "execution_count": null,
   "metadata": {},
   "outputs": [],
   "source": [
    "# dist between known duplicates:\n",
    "diff = data_dict['mdp.39015001704199'] - data_dict['mdp.39015048784154']\n",
    "print((diff * diff).sum() ** 0.5)\n",
    "plt.plot(diff)"
   ]
  },
  {
   "cell_type": "code",
   "execution_count": null,
   "metadata": {},
   "outputs": [],
   "source": [
    "# dist between known duplicates:\n",
    "diff = data_dict['mdp.39015001704199'] - data_dict['nc01.ark+=13960=t2j68kf84']\n",
    "print((diff * diff).sum() ** 0.5)\n",
    "plt.plot(diff)"
   ]
  },
  {
   "cell_type": "code",
   "execution_count": null,
   "metadata": {},
   "outputs": [],
   "source": [
    "# dist between random pair:\n",
    "diff = data_dict['mdp.39015001704199'] - data_dict['mdp.39015041912760']\n",
    "print((diff * diff).sum() ** 0.5)\n",
    "plt.plot(diff)"
   ]
  },
  {
   "cell_type": "code",
   "execution_count": null,
   "metadata": {},
   "outputs": [],
   "source": [
    "'mdp.39015029726430', 'inu.39000000259478'"
   ]
  },
  {
   "cell_type": "code",
   "execution_count": null,
   "metadata": {},
   "outputs": [],
   "source": [
    "# dist between pairs in base space\n",
    "pair_dists = [((data[x] - data[y]) ** 2).sum() ** 0.5 for x, y in pairs]\n",
    "pair_dists"
   ]
  },
  {
   "cell_type": "code",
   "execution_count": null,
   "metadata": {},
   "outputs": [],
   "source": [
    "# dist between pairs in umap space\n",
    "pair_umap_dists = [((data_umap[x] - data_umap[y]) ** 2).sum() ** 0.5 for x, y in pairs]\n",
    "pair_umap_dists"
   ]
  },
  {
   "cell_type": "code",
   "execution_count": null,
   "metadata": {},
   "outputs": [],
   "source": [
    "pair_ids = [(files[x], files[y]) for x, y in pairs]\n",
    "pair_ids"
   ]
  },
  {
   "cell_type": "code",
   "execution_count": null,
   "metadata": {},
   "outputs": [],
   "source": [
    "for a, b in pair_ids:\n",
    "    diff = data_dict[a] - data_dict[b]\n",
    "    plt.plot(diff)\n",
    "    plt.show()"
   ]
  },
  {
   "cell_type": "code",
   "execution_count": null,
   "metadata": {},
   "outputs": [],
   "source": [
    "data_freq_array = [fft_vec_to_array(r) / len(data) for r in data]  # 300 rows, 20 cols in each array, ~1000 arrays\n",
    "data_freq_mean = data_freq_array[0]\n",
    "for dfa in data_freq_array[1:]:\n",
    "    data_freq_mean += dfa"
   ]
  },
  {
   "cell_type": "code",
   "execution_count": null,
   "metadata": {},
   "outputs": [],
   "source": [
    "power_a = data_freq_mean[:, 2::2]\n",
    "power_b = data_freq_mean[:, 3::2]\n",
    "power = (power_a * power_a + power_b * power_b) ** 0.5\n",
    "\n",
    "mean_power = power.sum(axis=0) / 300\n",
    "plt.plot(mean_power)\n",
    "plt.plot(power[2])"
   ]
  },
  {
   "cell_type": "code",
   "execution_count": null,
   "metadata": {},
   "outputs": [],
   "source": [
    "plt.plot(numpy.fft.ifft(mean_power)[2:])"
   ]
  },
  {
   "cell_type": "code",
   "execution_count": null,
   "metadata": {},
   "outputs": [],
   "source": []
  }
 ],
 "metadata": {
  "kernelspec": {
   "display_name": "Python 3",
   "language": "python",
   "name": "python3"
  },
  "language_info": {
   "codemirror_mode": {
    "name": "ipython",
    "version": 3
   },
   "file_extension": ".py",
   "mimetype": "text/x-python",
   "name": "python",
   "nbconvert_exporter": "python",
   "pygments_lexer": "ipython3",
   "version": "3.7.3"
  }
 },
 "nbformat": 4,
 "nbformat_minor": 2
}
